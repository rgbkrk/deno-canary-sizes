{
 "cells": [
  {
   "cell_type": "markdown",
   "metadata": {},
   "source": [
    "# How are code changes affecting the size of the Deno binary?\n",
    "\n",
    "`scarf` on the Deno Discord had this question:\n",
    "\n",
    "> Are there any guide to build a 'stripped-down' version of `deno` from source? for example, i'd like to build a deno binary that runs typescript files but other additional features like `check`, `fmt`, `jupyter`, `lsp` removed. this would be useful to reduce binary size in docker container\n",
    "\n",
    "I figured the addition of Jupyter code was pretty small (main new requirement is zeromq, the rest is all protocols that Jupyter handles). To test that hypothesis, I calculated the Deno size between Linux canaries from dl.deno.land.\n",
    "\n",
    "## Canary Locations\n",
    "\n",
    "You can dowload the canary for any commit (if built successfully) with a URL like below:\n",
    "\n",
    "`https://dl.deno.land/canary/[COMMIT_HASH]/deno-[TARGET_TUPLE].zip`\n",
    "\n",
    "These are the currently supported target tuples:\n",
    "\n",
    "- Apple ARM (64-bit): `aarch64-apple-darwin`\n",
    "\n",
    "- Apple x86 (64-bit): `x86_64-apple-darwin`\n",
    "\n",
    "- Linux x86 (64-bit): `x86_64-unknown-linux-gnu`\n",
    "\n",
    "- Windows x86 (64-bit): `x86_64-pc-windows-msvc`\n",
    "\n",
    "Since scarf wanted this in Docker, I'm only measuring the Linux canary.\n",
    "\n",
    "## Methodology\n",
    "\n",
    "- Pull the last N commits\n",
    "- Determine the size by performing a `HEAD` and pulling `content-length`\n",
    "- If a commit download isn't found, skip it.\n"
   ]
  },
  {
   "cell_type": "code",
   "execution_count": 1,
   "metadata": {},
   "outputs": [
    {
     "name": "stdout",
     "output_type": "stream",
     "text": [
      "Commit for v1.36.0 is 6ba245fe2570b29e35a4fd296a196a58870b1e3c\n"
     ]
    }
   ],
   "source": [
    "import { fetchCanariesSinceTag, Canary } from \"./mod.ts\";\n",
    "\n",
    "const canaries = await fetchCanariesSinceTag(\"v1.36.0\");\n",
    "\n",
    "const jupyterLines = canaries.filter((point: Canary) =>\n",
    "  point.subject.includes(\"jupyter\")\n",
    ");\n"
   ]
  },
  {
   "cell_type": "code",
   "execution_count": 32,
   "metadata": {},
   "outputs": [
    {
     "data": {
      "image/svg+xml": [
       "<svg viewBox=\"0 0 800 600\" height=\"600\" width=\"800\" text-anchor=\"middle\" font-size=\"10\" font-family=\"system-ui, sans-serif\" fill=\"currentColor\" class=\"plot-d6a7b5\"><style>.plot-d6a7b5 {\n",
       "  display: block;\n",
       "  background: white;\n",
       "  height: auto;\n",
       "  height: intrinsic;\n",
       "  max-width: 100%;\n",
       "}\n",
       ".plot-d6a7b5 text,\n",
       ".plot-d6a7b5 tspan {\n",
       "  white-space: pre;\n",
       "}</style><g stroke=\"currentColor\" fill=\"none\" aria-label=\"y-axis tick\"><path d=\"M0,0L-6,0\" transform=\"translate(100,570)\" /><path d=\"M0,0L-6,0\" transform=\"translate(100,544.7306389486586)\" /><path d=\"M0,0L-6,0\" transform=\"translate(100,519.4612778973172)\" /><path d=\"M0,0L-6,0\" transform=\"translate(100,494.1919168459757)\" /><path d=\"M0,0L-6,0\" transform=\"translate(100,468.9225557946343)\" /><path d=\"M0,0L-6,0\" transform=\"translate(100,443.65319474329294)\" /><path d=\"M0,0L-6,0\" transform=\"translate(100,418.3838336919515)\" /><path d=\"M0,0L-6,0\" transform=\"translate(100,393.1144726406101)\" /><path d=\"M0,0L-6,0\" transform=\"translate(100,367.84511158926864)\" /><path d=\"M0,0L-6,0\" transform=\"translate(100,342.5757505379273)\" /><path d=\"M0,0L-6,0\" transform=\"translate(100,317.30638948658583)\" /><path d=\"M0,0L-6,0\" transform=\"translate(100,292.0370284352444)\" /><path d=\"M0,0L-6,0\" transform=\"translate(100,266.767667383903)\" /><path d=\"M0,0L-6,0\" transform=\"translate(100,241.4983063325616)\" /><path d=\"M0,0L-6,0\" transform=\"translate(100,216.2289452812202)\" /><path d=\"M0,0L-6,0\" transform=\"translate(100,190.95958422987874)\" /><path d=\"M0,0L-6,0\" transform=\"translate(100,165.69022317853734)\" /><path d=\"M0,0L-6,0\" transform=\"translate(100,140.42086212719593)\" /><path d=\"M0,0L-6,0\" transform=\"translate(100,115.15150107585454)\" /><path d=\"M0,0L-6,0\" transform=\"translate(100,89.88214002451313)\" /><path d=\"M0,0L-6,0\" transform=\"translate(100,64.61277897317171)\" /><path d=\"M0,0L-6,0\" transform=\"translate(100,39.34341792183026)\" /></g><g transform=\"translate(-9,0)\" font-variant=\"tabular-nums\" text-anchor=\"end\" aria-label=\"y-axis tick label\"><text transform=\"translate(100,570)\" y=\"0.32em\">0</text><text transform=\"translate(100,544.7306389486586)\" y=\"0.32em\">2,000,000</text><text transform=\"translate(100,519.4612778973172)\" y=\"0.32em\">4,000,000</text><text transform=\"translate(100,494.1919168459757)\" y=\"0.32em\">6,000,000</text><text transform=\"translate(100,468.9225557946343)\" y=\"0.32em\">8,000,000</text><text transform=\"translate(100,443.65319474329294)\" y=\"0.32em\">10,000,000</text><text transform=\"translate(100,418.3838336919515)\" y=\"0.32em\">12,000,000</text><text transform=\"translate(100,393.1144726406101)\" y=\"0.32em\">14,000,000</text><text transform=\"translate(100,367.84511158926864)\" y=\"0.32em\">16,000,000</text><text transform=\"translate(100,342.5757505379273)\" y=\"0.32em\">18,000,000</text><text transform=\"translate(100,317.30638948658583)\" y=\"0.32em\">20,000,000</text><text transform=\"translate(100,292.0370284352444)\" y=\"0.32em\">22,000,000</text><text transform=\"translate(100,266.767667383903)\" y=\"0.32em\">24,000,000</text><text transform=\"translate(100,241.4983063325616)\" y=\"0.32em\">26,000,000</text><text transform=\"translate(100,216.2289452812202)\" y=\"0.32em\">28,000,000</text><text transform=\"translate(100,190.95958422987874)\" y=\"0.32em\">30,000,000</text><text transform=\"translate(100,165.69022317853734)\" y=\"0.32em\">32,000,000</text><text transform=\"translate(100,140.42086212719593)\" y=\"0.32em\">34,000,000</text><text transform=\"translate(100,115.15150107585454)\" y=\"0.32em\">36,000,000</text><text transform=\"translate(100,89.88214002451313)\" y=\"0.32em\">38,000,000</text><text transform=\"translate(100,64.61277897317171)\" y=\"0.32em\">40,000,000</text><text transform=\"translate(100,39.34341792183026)\" y=\"0.32em\">42,000,000</text></g><g transform=\"translate(-97,-17)\" text-anchor=\"start\" aria-label=\"y-axis label\"><text transform=\"translate(100,20)\" y=\"0.71em\">↑ size</text></g><g stroke=\"currentColor\" fill=\"none\" aria-label=\"x-axis tick\"><path d=\"M0,0L0,6\" transform=\"translate(128.52633851563544,570)\" /><path d=\"M0,0L0,6\" transform=\"translate(198.49583880664764,570)\" /><path d=\"M0,0L0,6\" transform=\"translate(268.4653390976598,570)\" /><path d=\"M0,0L0,6\" transform=\"translate(338.434839388672,570)\" /><path d=\"M0,0L0,6\" transform=\"translate(408.4043396796842,570)\" /><path d=\"M0,0L0,6\" transform=\"translate(478.3738399706963,570)\" /><path d=\"M0,0L0,6\" transform=\"translate(548.3433402617086,570)\" /><path d=\"M0,0L0,6\" transform=\"translate(618.3128405527207,570)\" /><path d=\"M0,0L0,6\" transform=\"translate(688.2823408437329,570)\" /><path d=\"M0,0L0,6\" transform=\"translate(758.2518411347451,570)\" /></g><g transform=\"translate(0,9)\" font-variant=\"tabular-nums\" aria-label=\"x-axis tick label\"><text transform=\"translate(128.52633851563544,570)\"><tspan y=\"0.71em\" x=\"0\">13</tspan><tspan dy=\"1em\" x=\"0\">Aug</tspan></text><text transform=\"translate(198.49583880664764,570)\" y=\"0.71em\">20</text><text transform=\"translate(268.4653390976598,570)\" y=\"0.71em\">27</text><text transform=\"translate(338.434839388672,570)\"><tspan y=\"0.71em\" x=\"0\">3</tspan><tspan dy=\"1em\" x=\"0\">Sep</tspan></text><text transform=\"translate(408.4043396796842,570)\" y=\"0.71em\">10</text><text transform=\"translate(478.3738399706963,570)\" y=\"0.71em\">17</text><text transform=\"translate(548.3433402617086,570)\" y=\"0.71em\">24</text><text transform=\"translate(618.3128405527207,570)\"><tspan y=\"0.71em\" x=\"0\">1</tspan><tspan dy=\"1em\" x=\"0\">Oct</tspan></text><text transform=\"translate(688.2823408437329,570)\" y=\"0.71em\">8</text><text transform=\"translate(758.2518411347451,570)\" y=\"0.71em\">15</text></g><g transform=\"translate(17,27)\" text-anchor=\"end\" aria-label=\"x-axis label\"><text transform=\"translate(780,570)\">authoredDate →</text></g><g stroke-linecap=\"round\" stroke-linejoin=\"round\" stroke-width=\"1.5\" stroke=\"currentColor\" fill=\"none\" aria-label=\"line\"><path d=\"M780,20.039L779.018,20.044L776.313,20.032L774.68,20.061L743.943,20.028L743.468,20.028L739.594,20.113L737.654,20.122L734.9,20.154L734.564,20.27L734.359,20.42L734.119,20.441L731,20.559L724.403,20.59L720.685,20.582L720.567,20.643L715.995,20.643L715.89,20.634L713.97,20.673L712.317,20.647L710.312,20.642L709.53,20.688L707.743,20.64L703.024,20.68L702.009,20.652L699.828,20.673L699.804,20.668L698.335,20.682L697.535,20.695L696.2,20.698L696.079,20.686L690.379,20.687L689.184,20.678L684.77,20.689L677.268,20.607L677.219,20.596L677.189,20.607L676.837,20.599L674.03,20.672L667.573,20.608L666.939,20.96L666.753,21.093L666.133,21.127L665.982,20L665.575,20.02L663.955,20.005L663.534,20.108L662.636,20.353L661.937,20.435L659.581,20.427L658.56,20.348L657.351,20.382L657.108,20.723L656.506,20.744L652.918,20.701L649.394,20.754L647.919,20.756L647.894,20.764L637.429,21.552L633.403,21.536L631.03,21.502L628.437,21.45L615.027,21.461L614.389,20.285L614.294,20.285L611.752,20.283L607.652,20.314L606.547,20.282L606.1,20.529L603.919,20.51L596.959,20.508L594.516,20.513L587.479,20.5L586.401,20.538L584.124,20.472L584.122,20.732L582.883,20.717L582.174,20.715L580.65,20.739L579.628,20.693L578.667,20.731L578.477,20.741L578.183,20.885L577.447,20.817L577.062,20.771L576.96,21.703L574.824,21.696L573.382,21.659L573.213,22.098L572.819,21.944L570.286,21.933L569.543,21.973L569.315,22.113L569.252,21.985L568.765,21.98L564.752,21.974L508.693,25.065L508.53,25.071L506.898,25.045L506.031,25.079L504.872,25.089L503.371,25.11L502.602,25.094L498.361,25.25L497.585,25.198L496.982,25.274L496.72,25.397L496.687,25.403L496.62,25.336L496.251,25.37L495.789,25.42L495.307,25.371L495.251,25.407L494.892,25.458L494.525,25.426L485.307,25.461L485.085,25.478L485.001,25.459L481.223,25.397L479.223,25.395L477.502,25.399L477.23,25.487L474.567,25.482L470.797,25.438L468.671,25.509L466.653,28.61L464.955,30.898L464.586,30.874L464.271,30.897L457.668,30.844L457.17,30.899L456.423,32.071L456.303,31.938L455.946,32.011L455.824,32.167L455.203,32.078L454.483,32.076L451.092,32.071L450.518,33.122L449.889,33.097L447.621,33.032L447.564,33.032L447.506,35.167L445.266,35.193L445.016,35.208L434.873,35.893L434.083,35.924L434.066,37.106L433.079,37.107L432.945,37.218L432.853,37.199L428.784,37.261L428.442,37.312L428.066,37.613L427.637,37.591L426.167,37.954L424.187,37.915L416.385,37.931L413.451,37.958L406.345,37.927L406.162,38.585L405.928,38.522L404.27,38.516L396.152,38.477L395.597,38.626L395.345,38.656L394.997,38.617L394.802,38.63L394.277,38.641L393.327,38.66L389.951,38.657L388.348,38.797L387.034,38.733L386.465,38.797L385.589,40.526L385.47,40.543L383.896,40.733L381.382,41.776L375.138,41.743L373.797,41.774L373.541,41.77L370.725,41.853L370.143,42.001L364.927,41.995L362.887,42.058L357.336,42.043L357.212,42.005L352.826,42.024L348.763,41.978L340.373,41.93L334.937,41.868L331.274,41.914L242.376,52.048L212.614,32.028L163.081,33.302L162.462,33.275L156.685,33.328L125.48,54.431L100.216,54.382L100,54.376\" /></g><g stroke=\"currentColor\" aria-label=\"rule\"><line y2=\"570\" y1=\"570\" x2=\"780\" x1=\"100\" /></g><g stroke=\"orange\" aria-label=\"rule\"><line y2=\"20.121659338781708\" y1=\"570\" x2=\"737.6541067253331\" x1=\"737.6541067253331\" /><line y2=\"20.59913655052728\" y1=\"570\" x2=\"676.837329724703\" x1=\"676.837329724703\" /><line y2=\"20.960286258673076\" y1=\"570\" x2=\"666.9387509971909\" x1=\"666.9387509971909\" /><line y2=\"20.723221747969912\" y1=\"570\" x2=\"657.1080824824282\" x1=\"657.1080824824282\" /><line y2=\"20.70097207556421\" y1=\"570\" x2=\"652.9181264770718\" x1=\"652.9181264770718\" /><line y2=\"20.313933907021365\" y1=\"570\" x2=\"607.6518626735589\" x1=\"607.6518626735589\" /><line y2=\"20.28238510974875\" y1=\"570\" x2=\"606.547020200379\" x1=\"606.547020200379\" /><line y2=\"20.513031202744852\" y1=\"570\" x2=\"594.5158062738515\" x1=\"594.5158062738515\" /><line y2=\"20.740758684539532\" y1=\"570\" x2=\"578.4767328919975\" x1=\"578.4767328919975\" /><line y2=\"25.407011530960776\" y1=\"570\" x2=\"495.2507425871858\" x1=\"495.2507425871858\" /><line y2=\"25.460999520846947\" y1=\"570\" x2=\"485.3073917091899\" x1=\"485.3073917091899\" /><line y2=\"25.395236008710846\" y1=\"570\" x2=\"479.22312254615315\" x1=\"479.22312254615315\" /><line y2=\"25.509213461732905\" y1=\"570\" x2=\"468.6707778693281\" x1=\"468.6707778693281\" /></g><g transform=\"translate(-160,-150)\" font-weight=\"bold\" font-size=\"12px\" aria-label=\"text\"><text transform=\"translate(440,295)\"><tspan y=\"-0.18em\" x=\"0\">This chart shows the size of the Deno canary</tspan><tspan dy=\"1em\" x=\"0\">on Linux over time.</tspan></text></g><g transform=\"translate(-160,-120)\" aria-label=\"text\"><text transform=\"translate(440,295)\" y=\"0.32em\">Commits that contain Jupyter related changes are in orange</text></g></svg>"
      ]
     },
     "execution_count": 32,
     "metadata": {},
     "output_type": "execute_result"
    }
   ],
   "source": [
    "import Plot from \"https://deno.land/x/plot/mod.ts\";\n",
    "\n",
    "Plot.plot({\n",
    "  marginLeft: 100,\n",
    "  height: 600,\n",
    "  width: 800,\n",
    "  marks: [\n",
    "    Plot.lineY(canaries, {\n",
    "      x: \"authoredDate\",\n",
    "      y: \"size\",\n",
    "    }),\n",
    "    Plot.ruleY([0]),\n",
    "    Plot.ruleX(jupyterLines, {\n",
    "      stroke: \"orange\",\n",
    "      x: \"authoredDate\",\n",
    "      y2: \"size\",\n",
    "    }),\n",
    "    Plot.text(\n",
    "      [\"This chart shows the size of the Deno canary on Linux over time.\"],\n",
    "      {\n",
    "        lineWidth: 22,\n",
    "        fontWeight: \"bold\",\n",
    "        fontSize: \"12px\",\n",
    "        frameAnchor: \"middle\",\n",
    "        dx: -160,\n",
    "        dy: -150,\n",
    "      }\n",
    "    ),\n",
    "\n",
    "    Plot.text([\"Commits that contain Jupyter related changes are in orange\"], {\n",
    "      lineWidth: 30,\n",
    "      frameAnchor: \"middle\",\n",
    "      dx: -160,\n",
    "      dy: -120,\n",
    "    }),\n",
    "  ],\n",
    "});\n"
   ]
  }
 ],
 "metadata": {
  "kernelspec": {
   "display_name": "Deno",
   "language": "typescript",
   "name": "deno"
  },
  "language_info": {
   "file_extension": ".ts",
   "mimetype": "text/x.typescript",
   "name": "typescript",
   "nb_converter": "script",
   "pygments_lexer": "typescript",
   "version": "5.2.2"
  }
 },
 "nbformat": 4,
 "nbformat_minor": 2
}
