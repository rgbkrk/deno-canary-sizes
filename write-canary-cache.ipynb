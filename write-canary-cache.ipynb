{
 "cells": [
  {
   "cell_type": "code",
   "execution_count": 1,
   "metadata": {},
   "outputs": [
    {
     "name": "stdout",
     "output_type": "stream",
     "text": [
      "Commit for v1.36.0 is 6ba245fe2570b29e35a4fd296a196a58870b1e3c\n",
      "{\n",
      "  endCursor: \"7561f6eceacc46c6f4f5f66cf03e627821b64f02 99\",\n",
      "  hasNextPage: true\n",
      "}\n",
      "{\n",
      "  endCursor: \"7561f6eceacc46c6f4f5f66cf03e627821b64f02 199\",\n",
      "  hasNextPage: true\n",
      "}\n",
      "{\n",
      "  endCursor: \"7561f6eceacc46c6f4f5f66cf03e627821b64f02 299\",\n",
      "  hasNextPage: true\n",
      "}\n",
      "Reached starting commit hash\n",
      "Number of canaries: 294\n",
      "Writing canary JSON\n"
     ]
    }
   ],
   "source": [
    "import { fetchCanariesSinceTag } from \"./mod.ts\";\n",
    "\n",
    "const canaries = await fetchCanariesSinceTag(\"v1.36.0\", false);\n",
    "\n",
    "console.log(`Number of canaries: ${canaries.length}`);\n",
    "\n",
    "if (canaries.length > 10) {\n",
    "  console.log(\"Writing canary JSON\");\n",
    "  await Deno.writeTextFile(\"canaries.json\", JSON.stringify(canaries, null, 2));\n",
    "}\n"
   ]
  }
 ],
 "metadata": {
  "kernelspec": {
   "display_name": "Deno",
   "language": "typescript",
   "name": "deno"
  },
  "language_info": {
   "file_extension": ".ts",
   "mimetype": "text/x.typescript",
   "name": "typescript",
   "nb_converter": "script",
   "pygments_lexer": "typescript",
   "version": "5.2.2"
  }
 },
 "nbformat": 4,
 "nbformat_minor": 2
}
